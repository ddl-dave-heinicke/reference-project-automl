{
 "cells": [
  {
   "cell_type": "markdown",
   "metadata": {},
   "source": [
    "# MLBox"
   ]
  },
  {
   "cell_type": "markdown",
   "metadata": {},
   "source": [
    "#### Author's description:\n",
    "\n",
    "MLBox is a powerful Automated Machine Learning python library. It provides the following features:\n",
    "\n",
    "* Fast reading and distributed data preprocessing/cleaning/formatting\n",
    "* Highly robust feature selection and leak detection\n",
    "* Accurate hyper-parameter optimization in high-dimensional space\n",
    "* State-of-the art predictive models for classification and regression (Deep Learning, Stacking, LightGBM,...)\n",
    "* Prediction with models interpretation\n",
    "\n",
    "#### Useful links:\n",
    "\n",
    "[home](https://pypi.org/project/mlbox/),\n",
    "[tutorial](https://www.analyticsvidhya.com/blog/2017/07/mlbox-library-automated-machine-learning/),\n",
    "[manual](https://mlbox.readthedocs.io/en/latest/),\n",
    "[git](https://github.com/AxeldeRomblay/MLBox),\n",
    "[more examples](https://mlbox.readthedocs.io/en/latest/introduction.html)"
   ]
  },
  {
   "cell_type": "markdown",
   "metadata": {},
   "source": [
    "## Install and import"
   ]
  },
  {
   "cell_type": "code",
   "execution_count": 1,
   "metadata": {},
   "outputs": [
    {
     "name": "stdout",
     "output_type": "stream",
     "text": [
      "Collecting jsonschema==2.6\n",
      "  Downloading jsonschema-2.6.0-py2.py3-none-any.whl (39 kB)\n",
      "Installing collected packages: jsonschema\n",
      "  Attempting uninstall: jsonschema\n",
      "    Found existing installation: jsonschema 3.2.0\n",
      "    Uninstalling jsonschema-3.2.0:\n",
      "      Successfully uninstalled jsonschema-3.2.0\n",
      "Successfully installed jsonschema-3.0.2\n",
      "\u001b[33mWARNING: You are using pip version 20.0.2; however, version 20.2.2 is available.\n",
      "You should consider upgrading via the '/usr/local/anaconda/bin/python -m pip install --upgrade pip' command.\u001b[0m\n"
     ]
    }
   ],
   "source": [
    "!sudo -H pip install jsonschema==2.6"
   ]
  },
  {
   "cell_type": "code",
   "execution_count": 2,
   "metadata": {},
   "outputs": [
    {
     "name": "stdout",
     "output_type": "stream",
     "text": [
      "Collecting mlbox==0.8.2\n",
      "  Downloading mlbox-0.8.2.tar.gz (30 kB)\n",
      "Collecting numpy==1.17.0\n",
      "  Downloading numpy-1.17.0-cp36-cp36m-manylinux1_x86_64.whl (20.4 MB)\n",
      "\u001b[K     |████████████████████████████████| 20.4 MB 8.2 MB/s \n",
      "\u001b[?25hCollecting scipy==1.3.0\n",
      "  Downloading scipy-1.3.0-cp36-cp36m-manylinux1_x86_64.whl (25.2 MB)\n",
      "\u001b[K     |████████████████████████████████| 25.2 MB 24.0 MB/s \n",
      "\u001b[?25hCollecting matplotlib==3.0.3\n",
      "  Downloading matplotlib-3.0.3-cp36-cp36m-manylinux1_x86_64.whl (13.0 MB)\n",
      "\u001b[K     |████████████████████████████████| 13.0 MB 69.0 MB/s \n",
      "\u001b[?25hCollecting hyperopt==0.1.2\n",
      "  Downloading hyperopt-0.1.2-py3-none-any.whl (115 kB)\n",
      "\u001b[K     |████████████████████████████████| 115 kB 88.2 MB/s \n",
      "\u001b[?25hCollecting Keras==2.2.4\n",
      "  Downloading Keras-2.2.4-py2.py3-none-any.whl (312 kB)\n",
      "\u001b[K     |████████████████████████████████| 312 kB 99.1 MB/s \n",
      "\u001b[?25hCollecting pandas==0.25.0\n",
      "  Downloading pandas-0.25.0-cp36-cp36m-manylinux1_x86_64.whl (10.5 MB)\n",
      "\u001b[K     |████████████████████████████████| 10.5 MB 20.3 MB/s \n",
      "\u001b[?25hCollecting joblib==0.13.2\n",
      "  Downloading joblib-0.13.2-py2.py3-none-any.whl (278 kB)\n",
      "\u001b[K     |████████████████████████████████| 278 kB 96.5 MB/s \n",
      "\u001b[?25hCollecting scikit-learn==0.21.3\n",
      "  Downloading scikit_learn-0.21.3-cp36-cp36m-manylinux1_x86_64.whl (6.7 MB)\n",
      "\u001b[K     |████████████████████████████████| 6.7 MB 79.0 MB/s \n",
      "\u001b[?25hCollecting tensorflow==1.14.0\n",
      "  Downloading tensorflow-1.14.0-cp36-cp36m-manylinux1_x86_64.whl (109.2 MB)\n",
      "\u001b[K     |████████████████████████████████| 109.2 MB 85.1 MB/s \n",
      "\u001b[?25hCollecting lightgbm==2.2.3\n",
      "  Downloading lightgbm-2.2.3-py2.py3-none-manylinux1_x86_64.whl (1.2 MB)\n",
      "\u001b[K     |████████████████████████████████| 1.2 MB 37.4 MB/s \n",
      "\u001b[?25hCollecting tables==3.5.2\n",
      "  Downloading tables-3.5.2-cp36-cp36m-manylinux1_x86_64.whl (4.3 MB)\n",
      "\u001b[K     |████████████████████████████████| 4.3 MB 60.5 MB/s \n",
      "\u001b[?25hCollecting xlrd==1.2.0\n",
      "  Downloading xlrd-1.2.0-py2.py3-none-any.whl (103 kB)\n",
      "\u001b[K     |████████████████████████████████| 103 kB 95.3 MB/s \n",
      "\u001b[?25hRequirement already satisfied: kiwisolver>=1.0.1 in /usr/local/anaconda/lib/python3.6/site-packages (from matplotlib==3.0.3->mlbox==0.8.2) (1.0.1)\n",
      "Requirement already satisfied: cycler>=0.10 in /usr/local/anaconda/lib/python3.6/site-packages (from matplotlib==3.0.3->mlbox==0.8.2) (0.10.0)\n",
      "Requirement already satisfied: pyparsing!=2.0.4,!=2.1.2,!=2.1.6,>=2.0.1 in /usr/local/anaconda/lib/python3.6/site-packages (from matplotlib==3.0.3->mlbox==0.8.2) (2.2.0)\n",
      "Requirement already satisfied: python-dateutil>=2.1 in /usr/local/anaconda/lib/python3.6/site-packages (from matplotlib==3.0.3->mlbox==0.8.2) (2.8.1)\n",
      "Requirement already satisfied: networkx in /usr/local/anaconda/lib/python3.6/site-packages (from hyperopt==0.1.2->mlbox==0.8.2) (2.1)\n",
      "Requirement already satisfied: six in /usr/local/anaconda/lib/python3.6/site-packages (from hyperopt==0.1.2->mlbox==0.8.2) (1.14.0)\n",
      "Requirement already satisfied: tqdm in /usr/local/anaconda/lib/python3.6/site-packages (from hyperopt==0.1.2->mlbox==0.8.2) (4.45.0)\n",
      "Requirement already satisfied: future in /usr/local/anaconda/lib/python3.6/site-packages (from hyperopt==0.1.2->mlbox==0.8.2) (0.17.1)\n",
      "Collecting pymongo\n",
      "  Downloading pymongo-3.11.0-cp36-cp36m-manylinux2014_x86_64.whl (508 kB)\n",
      "\u001b[K     |████████████████████████████████| 508 kB 80.3 MB/s \n",
      "\u001b[?25hRequirement already satisfied: keras-preprocessing>=1.0.5 in /usr/local/anaconda/lib/python3.6/site-packages (from Keras==2.2.4->mlbox==0.8.2) (1.1.0)\n",
      "Requirement already satisfied: keras-applications>=1.0.6 in /usr/local/anaconda/lib/python3.6/site-packages (from Keras==2.2.4->mlbox==0.8.2) (1.0.8)\n",
      "Requirement already satisfied: pyyaml in /usr/local/anaconda/lib/python3.6/site-packages (from Keras==2.2.4->mlbox==0.8.2) (5.1.2)\n",
      "Requirement already satisfied: h5py in /usr/local/anaconda/lib/python3.6/site-packages (from Keras==2.2.4->mlbox==0.8.2) (2.10.0)\n",
      "Requirement already satisfied: pytz>=2017.2 in /usr/local/anaconda/lib/python3.6/site-packages (from pandas==0.25.0->mlbox==0.8.2) (2018.4)\n",
      "Requirement already satisfied: tensorboard<1.15.0,>=1.14.0 in /usr/local/anaconda/lib/python3.6/site-packages (from tensorflow==1.14.0->mlbox==0.8.2) (1.14.0)\n",
      "Requirement already satisfied: tensorflow-estimator<1.15.0rc0,>=1.14.0rc0 in /usr/local/anaconda/lib/python3.6/site-packages (from tensorflow==1.14.0->mlbox==0.8.2) (1.14.0)\n",
      "Requirement already satisfied: grpcio>=1.8.6 in /usr/local/anaconda/lib/python3.6/site-packages (from tensorflow==1.14.0->mlbox==0.8.2) (1.23.0)\n",
      "Requirement already satisfied: absl-py>=0.7.0 in /usr/local/anaconda/lib/python3.6/site-packages (from tensorflow==1.14.0->mlbox==0.8.2) (0.8.0)\n",
      "Requirement already satisfied: wheel>=0.26 in /usr/local/anaconda/lib/python3.6/site-packages (from tensorflow==1.14.0->mlbox==0.8.2) (0.33.6)\n",
      "Requirement already satisfied: termcolor>=1.1.0 in /usr/local/anaconda/lib/python3.6/site-packages (from tensorflow==1.14.0->mlbox==0.8.2) (1.1.0)\n",
      "Requirement already satisfied: astor>=0.6.0 in /usr/local/anaconda/lib/python3.6/site-packages (from tensorflow==1.14.0->mlbox==0.8.2) (0.8.0)\n",
      "Requirement already satisfied: google-pasta>=0.1.6 in /usr/local/anaconda/lib/python3.6/site-packages (from tensorflow==1.14.0->mlbox==0.8.2) (0.1.7)\n",
      "Requirement already satisfied: gast>=0.2.0 in /usr/local/anaconda/lib/python3.6/site-packages (from tensorflow==1.14.0->mlbox==0.8.2) (0.3.2)\n",
      "Requirement already satisfied: wrapt>=1.11.1 in /usr/local/anaconda/lib/python3.6/site-packages (from tensorflow==1.14.0->mlbox==0.8.2) (1.11.2)\n",
      "Requirement already satisfied: protobuf>=3.6.1 in /usr/local/anaconda/lib/python3.6/site-packages (from tensorflow==1.14.0->mlbox==0.8.2) (3.9.1)\n",
      "Requirement already satisfied: numexpr>=2.6.2 in /usr/local/anaconda/lib/python3.6/site-packages (from tables==3.5.2->mlbox==0.8.2) (2.6.5)\n",
      "Requirement already satisfied: mock>=2.0 in /usr/local/anaconda/lib/python3.6/site-packages (from tables==3.5.2->mlbox==0.8.2) (4.0.2)\n",
      "Requirement already satisfied: setuptools in /usr/local/anaconda/lib/python3.6/site-packages (from kiwisolver>=1.0.1->matplotlib==3.0.3->mlbox==0.8.2) (46.1.3)\n",
      "Requirement already satisfied: decorator>=4.1.0 in /usr/local/anaconda/lib/python3.6/site-packages (from networkx->hyperopt==0.1.2->mlbox==0.8.2) (4.4.2)\n",
      "Requirement already satisfied: markdown>=2.6.8 in /usr/local/anaconda/lib/python3.6/site-packages (from tensorboard<1.15.0,>=1.14.0->tensorflow==1.14.0->mlbox==0.8.2) (3.1.1)\n",
      "Requirement already satisfied: werkzeug>=0.11.15 in /usr/local/anaconda/lib/python3.6/site-packages (from tensorboard<1.15.0,>=1.14.0->tensorflow==1.14.0->mlbox==0.8.2) (0.15.6)\n",
      "Building wheels for collected packages: mlbox\n",
      "  Building wheel for mlbox (setup.py) ... \u001b[?25ldone\n",
      "\u001b[?25h  Created wheel for mlbox: filename=mlbox-0.8.2-py3-none-any.whl size=43823 sha256=35cd1dbdd0290bd8f2b7cf998d26b6a8171de2f56e1a927314ebfdcd0ffd19bb\n",
      "  Stored in directory: /root/.cache/pip/wheels/0a/be/5a/9699adc1e480550d41cde8a82038e9d50e98910c9d39e3c38c\n",
      "Successfully built mlbox\n",
      "Installing collected packages: numpy, scipy, matplotlib, pymongo, hyperopt, Keras, pandas, joblib, scikit-learn, tensorflow, lightgbm, tables, xlrd, mlbox\n",
      "  Attempting uninstall: numpy\n",
      "    Found existing installation: numpy 1.17.2\n",
      "    Uninstalling numpy-1.17.2:\n",
      "      Successfully uninstalled numpy-1.17.2\n",
      "  Attempting uninstall: scipy\n",
      "    Found existing installation: scipy 1.3.1\n",
      "    Uninstalling scipy-1.3.1:\n",
      "      Successfully uninstalled scipy-1.3.1\n",
      "  Attempting uninstall: matplotlib\n",
      "    Found existing installation: matplotlib 2.2.2\n",
      "    Uninstalling matplotlib-2.2.2:\n",
      "      Successfully uninstalled matplotlib-2.2.2\n",
      "  Attempting uninstall: Keras\n",
      "    Found existing installation: Keras 2.3.0\n",
      "    Uninstalling Keras-2.3.0:\n",
      "      Successfully uninstalled Keras-2.3.0\n",
      "  Attempting uninstall: pandas\n",
      "    Found existing installation: pandas 1.0.3\n",
      "    Uninstalling pandas-1.0.3:\n",
      "      Successfully uninstalled pandas-1.0.3\n",
      "  Attempting uninstall: scikit-learn\n",
      "    Found existing installation: scikit-learn 0.19.1\n",
      "    Uninstalling scikit-learn-0.19.1:\n",
      "      Successfully uninstalled scikit-learn-0.19.1\n",
      "  Attempting uninstall: tables\n",
      "    Found existing installation: tables 3.4.3\n",
      "    Uninstalling tables-3.4.3:\n",
      "      Successfully uninstalled tables-3.4.3\n",
      "  Attempting uninstall: xlrd\n",
      "    Found existing installation: xlrd 1.1.0\n",
      "    Uninstalling xlrd-1.1.0:\n",
      "      Successfully uninstalled xlrd-1.1.0\n",
      "Successfully installed Keras-2.2.4 hyperopt-0.1.2 joblib-0.13.2 lightgbm-2.2.3 matplotlib-3.0.3 mlbox-0.8.2 numpy-1.17.0 pandas-0.25.0 pymongo-3.11.0 scikit-learn-0.21.3 scipy-1.3.0 tables-3.5.2 tensorflow-1.14.0 xlrd-1.2.0\n",
      "\u001b[33mWARNING: You are using pip version 20.0.2; however, version 20.2.2 is available.\n",
      "You should consider upgrading via the '/usr/local/anaconda/bin/python -m pip install --upgrade pip' command.\u001b[0m\n"
     ]
    }
   ],
   "source": [
    "!sudo -H pip install mlbox==0.8.2"
   ]
  },
  {
   "cell_type": "markdown",
   "metadata": {},
   "source": [
    "#### MLBox main package contains 3 sub-packages : preprocessing, optimisation and prediction. Each one of them are respectively aimed at reading and preprocessing data, testing or optimising a wide range of learners and predicting the target on a test dataset."
   ]
  },
  {
   "cell_type": "code",
   "execution_count": 3,
   "metadata": {},
   "outputs": [
    {
     "name": "stderr",
     "output_type": "stream",
     "text": [
      "Using TensorFlow backend.\n",
      "/usr/local/anaconda/lib/python3.6/site-packages/tensorflow/python/framework/dtypes.py:516: FutureWarning: Passing (type, 1) or '1type' as a synonym of type is deprecated; in a future version of numpy, it will be understood as (type, (1,)) / '(1,)type'.\n",
      "  _np_qint8 = np.dtype([(\"qint8\", np.int8, 1)])\n",
      "/usr/local/anaconda/lib/python3.6/site-packages/tensorflow/python/framework/dtypes.py:517: FutureWarning: Passing (type, 1) or '1type' as a synonym of type is deprecated; in a future version of numpy, it will be understood as (type, (1,)) / '(1,)type'.\n",
      "  _np_quint8 = np.dtype([(\"quint8\", np.uint8, 1)])\n",
      "/usr/local/anaconda/lib/python3.6/site-packages/tensorflow/python/framework/dtypes.py:518: FutureWarning: Passing (type, 1) or '1type' as a synonym of type is deprecated; in a future version of numpy, it will be understood as (type, (1,)) / '(1,)type'.\n",
      "  _np_qint16 = np.dtype([(\"qint16\", np.int16, 1)])\n",
      "/usr/local/anaconda/lib/python3.6/site-packages/tensorflow/python/framework/dtypes.py:519: FutureWarning: Passing (type, 1) or '1type' as a synonym of type is deprecated; in a future version of numpy, it will be understood as (type, (1,)) / '(1,)type'.\n",
      "  _np_quint16 = np.dtype([(\"quint16\", np.uint16, 1)])\n",
      "/usr/local/anaconda/lib/python3.6/site-packages/tensorflow/python/framework/dtypes.py:520: FutureWarning: Passing (type, 1) or '1type' as a synonym of type is deprecated; in a future version of numpy, it will be understood as (type, (1,)) / '(1,)type'.\n",
      "  _np_qint32 = np.dtype([(\"qint32\", np.int32, 1)])\n",
      "/usr/local/anaconda/lib/python3.6/site-packages/tensorflow/python/framework/dtypes.py:525: FutureWarning: Passing (type, 1) or '1type' as a synonym of type is deprecated; in a future version of numpy, it will be understood as (type, (1,)) / '(1,)type'.\n",
      "  np_resource = np.dtype([(\"resource\", np.ubyte, 1)])\n",
      "/usr/local/anaconda/lib/python3.6/site-packages/tensorboard/compat/tensorflow_stub/dtypes.py:541: FutureWarning: Passing (type, 1) or '1type' as a synonym of type is deprecated; in a future version of numpy, it will be understood as (type, (1,)) / '(1,)type'.\n",
      "  _np_qint8 = np.dtype([(\"qint8\", np.int8, 1)])\n",
      "/usr/local/anaconda/lib/python3.6/site-packages/tensorboard/compat/tensorflow_stub/dtypes.py:542: FutureWarning: Passing (type, 1) or '1type' as a synonym of type is deprecated; in a future version of numpy, it will be understood as (type, (1,)) / '(1,)type'.\n",
      "  _np_quint8 = np.dtype([(\"quint8\", np.uint8, 1)])\n",
      "/usr/local/anaconda/lib/python3.6/site-packages/tensorboard/compat/tensorflow_stub/dtypes.py:543: FutureWarning: Passing (type, 1) or '1type' as a synonym of type is deprecated; in a future version of numpy, it will be understood as (type, (1,)) / '(1,)type'.\n",
      "  _np_qint16 = np.dtype([(\"qint16\", np.int16, 1)])\n",
      "/usr/local/anaconda/lib/python3.6/site-packages/tensorboard/compat/tensorflow_stub/dtypes.py:544: FutureWarning: Passing (type, 1) or '1type' as a synonym of type is deprecated; in a future version of numpy, it will be understood as (type, (1,)) / '(1,)type'.\n",
      "  _np_quint16 = np.dtype([(\"quint16\", np.uint16, 1)])\n",
      "/usr/local/anaconda/lib/python3.6/site-packages/tensorboard/compat/tensorflow_stub/dtypes.py:545: FutureWarning: Passing (type, 1) or '1type' as a synonym of type is deprecated; in a future version of numpy, it will be understood as (type, (1,)) / '(1,)type'.\n",
      "  _np_qint32 = np.dtype([(\"qint32\", np.int32, 1)])\n",
      "/usr/local/anaconda/lib/python3.6/site-packages/tensorboard/compat/tensorflow_stub/dtypes.py:550: FutureWarning: Passing (type, 1) or '1type' as a synonym of type is deprecated; in a future version of numpy, it will be understood as (type, (1,)) / '(1,)type'.\n",
      "  np_resource = np.dtype([(\"resource\", np.ubyte, 1)])\n"
     ]
    }
   ],
   "source": [
    "from mlbox.preprocessing import *\n",
    "from mlbox.optimisation import *\n",
    "from mlbox.prediction import *\n",
    "import numpy as np\n",
    "import pandas as pd\n",
    "import sklearn\n",
    "import subprocess"
   ]
  },
  {
   "cell_type": "code",
   "execution_count": 4,
   "metadata": {},
   "outputs": [
    {
     "name": "stdout",
     "output_type": "stream",
     "text": [
      "Name: mlbox\n",
      "Version: 0.8.2\n",
      "Summary: A powerful Automated Machine Learning python library.\n",
      "Home-page: https://github.com/AxeldeRomblay/mlbox\n",
      "Author: Axel ARONIO DE ROMBLAY\n",
      "Author-email: axelderomblay@gmail.com\n",
      "License: BSD-3\n",
      "Location: /usr/local/anaconda/lib/python3.6/site-packages\n",
      "Requires: tables, tensorflow, pandas, joblib, xlrd, numpy, scipy, scikit-learn, hyperopt, Keras, lightgbm, matplotlib\n",
      "Required-by: \n"
     ]
    }
   ],
   "source": [
    "# these notes were written for v 0.8.2\n",
    "!pip show mlbox"
   ]
  },
  {
   "cell_type": "code",
   "execution_count": 5,
   "metadata": {},
   "outputs": [],
   "source": [
    "!rm -rf ../results/joblib"
   ]
  },
  {
   "cell_type": "markdown",
   "metadata": {},
   "source": [
    "## A few pointers to keep in mind\n",
    "\n",
    "#### Importing data\n",
    "MLBox seems to prefer csv files. Otherwise you have to build your own dictionary. The dictionary structure is not overly complicated, but it introduces another chance for syntax or type errors. It might be wise to just use csv if saving and loading as csv is not too expensive.\n",
    "\n",
    "#### Documentation\n",
    "MLBox documentation is high-level. Implementing in practice is more difficult. Could not find anything on deep learning."
   ]
  },
  {
   "cell_type": "markdown",
   "metadata": {},
   "source": [
    "## Heart Disease"
   ]
  },
  {
   "cell_type": "markdown",
   "metadata": {},
   "source": [
    "#### A note on importing data\n",
    "csv files for the two datasets in this project are saved at **/mnt/data/raw/**\n",
    "\n",
    "#### A note on the train & test function\n",
    "MLBox has a function called **train_test_split()**. It does not behave like the scikit-learn function of the same name. It can take a little getting use to. It will help if you imagine that the authors of MLBox built it as a tool for Kaggle competitions. The training set needs to have **y** in it. The test set should not. You're on your own for accuracy against the test set as it is assumed you'll find out the real answers later with an external test set that is not part of the MLBox flow.\n",
    "\n",
    "#### A note on categorical fields\n",
    "MLBox tries to infer which columns are categorical. From what I can tell, it only looks at data type when doing so. This is a little annoying. Below, I had to take the extra step of mapping numeric values to text for each of the numeric/categorical columns so that MLBox will treat them as categorical."
   ]
  },
  {
   "cell_type": "markdown",
   "metadata": {},
   "source": [
    "#### Load the heart disease dataset"
   ]
  },
  {
   "cell_type": "markdown",
   "metadata": {},
   "source": [
    "The raw data can be found in the project files at /mnt/data/raw/heart.csv\n",
    "\n",
    "Attribute documentation:\n",
    "\n",
    "      age: age in years\n",
    "      sex: sex (1 = male; 0 = female)\n",
    "      cp: chest pain type\n",
    "        -- Value 1: typical angina\n",
    "        -- Value 2: atypical angina\n",
    "        -- Value 3: non-anginal pain\n",
    "        -- Value 4: asymptomatic\n",
    "     trestbps: resting blood pressure (in mm Hg on admission to the \n",
    "        hospital)\n",
    "     chol: serum cholestoral in mg/dl\n",
    "     fbs: (fasting blood sugar > 120 mg/dl)  (1 = true; 0 = false)\n",
    "     restecg: resting electrocardiographic results\n",
    "        -- Value 0: normal\n",
    "        -- Value 1: having ST-T wave abnormality (T wave inversions and/or ST \n",
    "                    elevation or depression of > 0.05 mV)\n",
    "        -- Value 2: showing probable or definite left ventricular hypertrophy\n",
    "                    by Estes' criteria\n",
    "     thalach: maximum heart rate achieved\n",
    "     exang: exercise induced angina (1 = yes; 0 = no)\n",
    "     oldpeak = ST depression induced by exercise relative to rest\n",
    "     slope: the slope of the peak exercise ST segment\n",
    "        -- Value 1: upsloping\n",
    "        -- Value 2: flat\n",
    "        -- Value 3: downsloping\n",
    "     ca: number of major vessels (0-3) colored by flourosopy\n",
    "     thal: \n",
    "         3 = normal; \n",
    "         6 = fixed defect; \n",
    "         7 = reversable defect\n",
    "     target: diagnosis of heart disease (angiographic disease status)\n",
    "        -- Value 0: < 50% diameter narrowing\n",
    "        -- Value 1: > 50% diameter narrowing"
   ]
  },
  {
   "cell_type": "code",
   "execution_count": 6,
   "metadata": {},
   "outputs": [],
   "source": [
    "# column names\n",
    "names = ['age','sex','cp','trestbps','chol','fbs','restecg','thalach','exang', \\\n",
    "         'oldpeak','slope','ca','thal','target']\n",
    "\n",
    "# load data from Domino project directory\n",
    "hd_data = pd.read_csv(\"/mnt/data/raw/heart.csv\", header=None, names=names)"
   ]
  },
  {
   "cell_type": "code",
   "execution_count": 7,
   "metadata": {},
   "outputs": [],
   "source": [
    "# in case some data comes in as string, convert to numeric and coerce errors to NaN\n",
    "for col in hd_data.columns:  # Iterate over columns\n",
    "    hd_data[col] = pd.to_numeric(hd_data[col], errors='coerce')\n",
    "    \n",
    "# drop nulls\n",
    "hd_data.dropna(inplace=True)"
   ]
  },
  {
   "cell_type": "code",
   "execution_count": 8,
   "metadata": {},
   "outputs": [],
   "source": [
    "# function to force non-numeric data for categorical columns\n",
    "def force_non_numeric(data, cols):\n",
    "    for c in cols:\n",
    "        data[c] = 'text_' + data[c].map(str)  \n",
    "    return data"
   ]
  },
  {
   "cell_type": "code",
   "execution_count": 9,
   "metadata": {},
   "outputs": [],
   "source": [
    "cat_cols = ['cp', 'restecg', 'slope', 'ca', 'thal']\n",
    "hd_data = force_non_numeric(hd_data, cat_cols)"
   ]
  },
  {
   "cell_type": "code",
   "execution_count": 11,
   "metadata": {},
   "outputs": [],
   "source": [
    "# create MLBox random samples for train and test\n",
    "hd_data_train = hd_data.sample(frac=0.7, replace=False, random_state=1)\n",
    "hd_data_test = hd_data[~hd_data.isin(hd_data_train)].dropna()\n",
    "hd_data_test_wo_target = hd_data_test.drop('target', axis=1)\n",
    "\n",
    "hd_data_train.to_csv('/mnt/data/processed/hd_data_train.csv', index=False)\n",
    "hd_data_test.to_csv('/mnt/data/processed/hd_data_test.csv', index=False)\n",
    "hd_data_test_wo_target.to_csv('/mnt/data/processed/hd_data_test_wo_target.csv', index=False)"
   ]
  },
  {
   "cell_type": "code",
   "execution_count": 12,
   "metadata": {},
   "outputs": [],
   "source": [
    "# the list of paths to your train datasets and test datasets\n",
    "paths_hd = [\"/mnt/data/processed/hd_data_train.csv\", \\\n",
    "         \"/mnt/data/processed/hd_data_test_wo_target.csv\"]\n",
    "\n",
    "# the name of the target you try to predict (classification or regression)\n",
    "target_hd = \"target\""
   ]
  },
  {
   "cell_type": "markdown",
   "metadata": {},
   "source": [
    "#### Process the data\n",
    "\n",
    "Pass the training set (with the target) and the test set (without the target) to the **train_test_split()** funciton. This automatically cleans both data sets.\n",
    "\n",
    "Use **to_path** to keep your world organized. In my project I want everything in the results directory so we use **/mnt/results**.\n",
    "\n",
    "Note that after adding text to the numeric/categorical columns, they are now recognized as such. "
   ]
  },
  {
   "cell_type": "code",
   "execution_count": 13,
   "metadata": {},
   "outputs": [
    {
     "name": "stdout",
     "output_type": "stream",
     "text": [
      "\n",
      "reading csv : hd_data_train.csv ...\n",
      "cleaning data ...\n",
      "CPU time: 0.05018115043640137 seconds\n",
      "\n",
      "reading csv : hd_data_test_wo_target.csv ...\n",
      "cleaning data ...\n",
      "CPU time: 0.019963741302490234 seconds\n",
      "\n",
      "> Number of common features : 13\n",
      "\n",
      "gathering and crunching for train and test datasets ...\n",
      "reindexing for train and test datasets ...\n",
      "dropping training duplicates ...\n",
      "dropping constant variables on training set ...\n",
      "\n",
      "> Number of categorical features: 5\n",
      "> Number of numerical features: 8\n",
      "> Number of training samples : 211\n",
      "> Number of test samples : 91\n",
      "\n",
      "> You have no missing values on train set...\n",
      "\n",
      "> Task : classification\n",
      "1.0    109\n",
      "0.0    102\n",
      "Name: target, dtype: int64\n",
      "\n",
      "encoding target ...\n"
     ]
    }
   ],
   "source": [
    "# to read and preprocess your files\n",
    "mlb_data_hd = Reader(sep=\",\", to_path = '/mnt/results').train_test_split(paths_hd, target_hd)"
   ]
  },
  {
   "cell_type": "markdown",
   "metadata": {},
   "source": [
    "#### Last processing note\n",
    "\n",
    "After building the dictionary, we processes the data as below with the nice MLBox feature of automatically droping ids and [drifting variables](https://github.com/AxeldeRomblay/MLBox/blob/master/docs/webinars/features.pdf) between train and test datasets. I have found that it does not automatically drop ids. The source code only seems to detect drift, which is not found in randomly generated id fields."
   ]
  },
  {
   "cell_type": "code",
   "execution_count": 14,
   "metadata": {},
   "outputs": [
    {
     "name": "stdout",
     "output_type": "stream",
     "text": [
      "\n",
      "computing drifts ...\n",
      "CPU time: 0.27405881881713867 seconds\n",
      "\n",
      "> Top 10 drifts\n",
      "\n",
      "('age', 0.16854601525233193)\n",
      "('sex', 0.1267822961834446)\n",
      "('restecg', 0.10845849013199294)\n",
      "('ca', 0.08890731408778985)\n",
      "('oldpeak', 0.08875589758280489)\n",
      "('trestbps', 0.08502309117977713)\n",
      "('thalach', 0.07370459349540548)\n",
      "('thal', 0.07113500527364369)\n",
      "('fbs', 0.06026993241923506)\n",
      "('exang', 0.05645467921924041)\n",
      "\n",
      "> Deleted variables : []\n",
      "> Drift coefficients dumped into directory : /mnt/results\n"
     ]
    }
   ],
   "source": [
    "# drop IDs and useless columns\n",
    "mlb_data_hd = Drift_thresholder(to_path='/mnt/results').fit_transform(mlb_data_hd)"
   ]
  },
  {
   "cell_type": "markdown",
   "metadata": {},
   "source": [
    "#### Build the modeling routine\n",
    "\n",
    "#### Defining the search criteria\n",
    "\n",
    "MLBox gives you good control over the modeling algorithms and parameter settings to try.\n",
    "\n",
    "You define a space dictionary and pass it to the **Optimiser** function.\n",
    "\n",
    "Then you pass that Optimiser and the data dictionary to the **Predictor** function."
   ]
  },
  {
   "cell_type": "code",
   "execution_count": 15,
   "metadata": {},
   "outputs": [],
   "source": [
    "space = {\n",
    "\n",
    "        'ne__numerical_strategy' : {\"space\" : [0, 'mean']},\n",
    "\n",
    "        'ce__strategy' : {\"space\" : [\"label_encoding\", \"random_projection\", \\\n",
    "                                     \"entity_embedding\"]},\n",
    "\n",
    "        'fs__strategy' : {\"space\" : [\"variance\", \"rf_feature_importance\"]},\n",
    "        'fs__threshold': {\"search\" : \"choice\", \"space\" : [0.1, 0.2, 0.3]},\n",
    "\n",
    "        'est__strategy' : {\"space\" : [\"LightGBM\", \"RandomForest\", \"ExtraTrees\",\\\n",
    "                                      \"Linear\"]},\n",
    "        'est__max_depth' : {\"search\" : \"choice\", \"space\" : [5,10,20]},\n",
    "        'est__subsample' : {\"search\" : \"uniform\", \"space\" : [0.6,0.7]}\n",
    "\n",
    "        }"
   ]
  },
  {
   "cell_type": "code",
   "execution_count": 16,
   "metadata": {},
   "outputs": [
    {
     "name": "stdout",
     "output_type": "stream",
     "text": []
    },
    {
     "name": "stdout",
     "output_type": "stream",
     "text": [
      "##################################################### testing hyper-parameters... #####################################################\n",
      ">>> NA ENCODER :{'numerical_strategy': 'mean', 'categorical_strategy': '<NULL>'}\n",
      ">>> CA ENCODER :{'strategy': 'random_projection'}\n",
      ">>> FEATURE SELECTOR :{'strategy': 'rf_feature_importance', 'threshold': 0.1}\n",
      ">>> ESTIMATOR :{'strategy': 'ExtraTrees', 'max_depth': 5, 'bootstrap': True, 'class_weight': None, 'criterion': 'gini', 'max_features': 'sqrt', 'max_leaf_nodes': None, 'min_impurity_decrease': 0.0, 'min_impurity_split': None, 'min_samples_leaf': 1, 'min_samples_split': 2, 'min_weight_fraction_leaf': 0.0, 'n_estimators': 400, 'n_jobs': -1, 'oob_score': False, 'random_state': 0, 'verbose': 0, 'warm_start': False}\n",
      "  0%|          | 0/10 [00:00<?, ?it/s, best loss: ?]"
     ]
    },
    {
     "name": "stderr",
     "output_type": "stream",
     "text": [
      "/usr/local/anaconda/lib/python3.6/site-packages/mlbox/optimisation/optimiser.py:74: UserWarning: Optimiser will save all your fitted models into directory '../results/joblib'. Please clear it regularly.\n",
      "  +str(self.to_path)+\"/joblib'. Please clear it regularly.\")\n",
      "/usr/local/anaconda/lib/python3.6/site-packages/mlbox/model/classification/classifier.py:92: UserWarning: Invalid parameter for classifier ExtraTrees. Parameter IGNORED. Check the list of available parameters with `classifier.get_params().keys()`\n",
      "  + \". Parameter IGNORED. Check the list of \"\n",
      "\n",
      "/usr/local/anaconda/lib/python3.6/site-packages/sklearn/utils/deprecation.py:66: DeprecationWarning: Class Imputer is deprecated; Imputer was deprecated in version 0.20 and will be removed in 0.22. Import impute.SimpleImputer from sklearn instead.\n",
      "  warnings.warn(msg, category=DeprecationWarning)\n",
      "\n",
      "/usr/local/anaconda/lib/python3.6/site-packages/sklearn/utils/deprecation.py:66: DeprecationWarning: Class Imputer is deprecated; Imputer was deprecated in version 0.20 and will be removed in 0.22. Import impute.SimpleImputer from sklearn instead.\n",
      "  warnings.warn(msg, category=DeprecationWarning)\n",
      "\n"
     ]
    },
    {
     "name": "stdout",
     "output_type": "stream",
     "text": []
    },
    {
     "name": "stdout",
     "output_type": "stream",
     "text": [
      "MEAN SCORE : neg_log_loss = -0.45016076541582595\n",
      "VARIANCE : 0.0364766212935074 (fold 1 = -0.4136841441223185, fold 2 = -0.4866373867093333)\n",
      "CPU time: 1.2122752666473389 seconds\n",
      "##################################################### testing hyper-parameters... #####################################################\n",
      ">>> NA ENCODER :{'numerical_strategy': 'mean', 'categorical_strategy': '<NULL>'}\n",
      ">>> CA ENCODER :{'strategy': 'entity_embedding'}\n",
      ">>> FEATURE SELECTOR :{'strategy': 'rf_feature_importance', 'threshold': 0.3}\n",
      ">>> ESTIMATOR :{'strategy': 'ExtraTrees', 'max_depth': 20, 'bootstrap': True, 'class_weight': None, 'criterion': 'gini', 'max_features': 'sqrt', 'max_leaf_nodes': None, 'min_impurity_decrease': 0.0, 'min_impurity_split': None, 'min_samples_leaf': 1, 'min_samples_split': 2, 'min_weight_fraction_leaf': 0.0, 'n_estimators': 400, 'n_jobs': -1, 'oob_score': False, 'random_state': 0, 'verbose': 0, 'warm_start': False}\n",
      " 10%|█         | 1/10 [00:01<00:10,  1.22s/it, best loss: 0.45016076541582595]WARNING:tensorflow:From /usr/local/anaconda/lib/python3.6/site-packages/keras/backend/tensorflow_backend.py:74: The name tf.get_default_graph is deprecated. Please use tf.compat.v1.get_default_graph instead.\n",
      "\n",
      "WARNING:tensorflow:From /usr/local/anaconda/lib/python3.6/site-packages/keras/backend/tensorflow_backend.py:517: The name tf.placeholder is deprecated. Please use tf.compat.v1.placeholder instead.\n",
      "\n",
      "WARNING:tensorflow:From /usr/local/anaconda/lib/python3.6/site-packages/keras/backend/tensorflow_backend.py:4138: The name tf.random_uniform is deprecated. Please use tf.random.uniform instead.\n",
      "\n",
      "WARNING:tensorflow:From /usr/local/anaconda/lib/python3.6/site-packages/keras/backend/tensorflow_backend.py:133: The name tf.placeholder_with_default is deprecated. Please use tf.compat.v1.placeholder_with_default instead.\n",
      "\n",
      "WARNING:tensorflow:From /usr/local/anaconda/lib/python3.6/site-packages/keras/backend/tensorflow_backend.py:3445: calling dropout (from tensorflow.python.ops.nn_ops) with keep_prob is deprecated and will be removed in a future version.\n",
      "Instructions for updating:\n",
      "Please use `rate` instead of `keep_prob`. Rate should be set to `rate = 1 - keep_prob`.\n"
     ]
    },
    {
     "name": "stderr",
     "output_type": "stream",
     "text": [
      "/usr/local/anaconda/lib/python3.6/site-packages/mlbox/model/classification/classifier.py:92: UserWarning: Invalid parameter for classifier ExtraTrees. Parameter IGNORED. Check the list of available parameters with `classifier.get_params().keys()`\n",
      "  + \". Parameter IGNORED. Check the list of \"\n",
      "\n"
     ]
    },
    {
     "name": "stdout",
     "output_type": "stream",
     "text": [
      "WARNING:tensorflow:From /usr/local/anaconda/lib/python3.6/site-packages/keras/backend/tensorflow_backend.py:4115: The name tf.random_normal is deprecated. Please use tf.random.normal instead.\n",
      "\n",
      "WARNING:tensorflow:From /usr/local/anaconda/lib/python3.6/site-packages/keras/optimizers.py:790: The name tf.train.Optimizer is deprecated. Please use tf.compat.v1.train.Optimizer instead.\n",
      "\n",
      "WARNING:tensorflow:From /usr/local/anaconda/lib/python3.6/site-packages/tensorflow/python/ops/nn_impl.py:180: add_dispatch_support.<locals>.wrapper (from tensorflow.python.ops.array_ops) is deprecated and will be removed in a future version.\n",
      "Instructions for updating:\n",
      "Use tf.where in 2.0, which has the same broadcast rule as np.where\n",
      "MEAN SCORE : neg_log_loss = -0.47903456453258\n",
      "VARIANCE : 0.0493714517947538 (fold 1 = -0.42966311273782615, fold 2 = -0.5284060163273337)\n",
      "CPU time: 3.9905571937561035 seconds\n",
      "##################################################### testing hyper-parameters... #####################################################\n",
      ">>> NA ENCODER :{'numerical_strategy': 'mean', 'categorical_strategy': '<NULL>'}\n",
      ">>> CA ENCODER :{'strategy': 'label_encoding'}\n",
      ">>> FEATURE SELECTOR :{'strategy': 'rf_feature_importance', 'threshold': 0.2}\n",
      ">>> ESTIMATOR :{'strategy': 'ExtraTrees', 'max_depth': 10, 'bootstrap': True, 'class_weight': None, 'criterion': 'gini', 'max_features': 'sqrt', 'max_leaf_nodes': None, 'min_impurity_decrease': 0.0, 'min_impurity_split': None, 'min_samples_leaf': 1, 'min_samples_split': 2, 'min_weight_fraction_leaf': 0.0, 'n_estimators': 400, 'n_jobs': -1, 'oob_score': False, 'random_state': 0, 'verbose': 0, 'warm_start': False}\n",
      " 20%|██        | 2/10 [00:05<00:16,  2.05s/it, best loss: 0.45016076541582595]"
     ]
    },
    {
     "name": "stderr",
     "output_type": "stream",
     "text": [
      "/usr/local/anaconda/lib/python3.6/site-packages/mlbox/model/classification/classifier.py:92: UserWarning: Invalid parameter for classifier ExtraTrees. Parameter IGNORED. Check the list of available parameters with `classifier.get_params().keys()`\n",
      "  + \". Parameter IGNORED. Check the list of \"\n",
      "\n"
     ]
    },
    {
     "name": "stdout",
     "output_type": "stream",
     "text": []
    },
    {
     "name": "stdout",
     "output_type": "stream",
     "text": [
      "MEAN SCORE : neg_log_loss = -0.4577304565518751\n",
      "VARIANCE : 0.04399679251668459 (fold 1 = -0.4137336640351905, fold 2 = -0.5017272490685597)\n",
      "CPU time: 1.1930012702941895 seconds\n",
      "##################################################### testing hyper-parameters... #####################################################\n",
      ">>> NA ENCODER :{'numerical_strategy': 'mean', 'categorical_strategy': '<NULL>'}\n",
      ">>> CA ENCODER :{'strategy': 'label_encoding'}\n",
      ">>> FEATURE SELECTOR :{'strategy': 'rf_feature_importance', 'threshold': 0.3}\n",
      ">>> ESTIMATOR :{'strategy': 'LightGBM', 'max_depth': 5, 'subsample': 0.6073569057269794, 'boosting_type': 'gbdt', 'class_weight': None, 'colsample_bytree': 0.8, 'importance_type': 'split', 'learning_rate': 0.05, 'min_child_samples': 20, 'min_child_weight': 0.001, 'min_split_gain': 0.0, 'n_estimators': 500, 'n_jobs': -1, 'num_leaves': 31, 'objective': None, 'random_state': None, 'reg_alpha': 0.0, 'reg_lambda': 0.0, 'silent': True, 'subsample_for_bin': 200000, 'subsample_freq': 0, 'nthread': -1, 'seed': 0}\n",
      "MEAN SCORE : neg_log_loss = -0.7422602116491224\n",
      "VARIANCE : 0.24020503746181304 (fold 1 = -0.5020551741873093, fold 2 = -0.9824652491109354)\n",
      "CPU time: 2.262838363647461 seconds\n",
      "##################################################### testing hyper-parameters... #####################################################\n",
      ">>> NA ENCODER :{'numerical_strategy': 0, 'categorical_strategy': '<NULL>'}\n",
      ">>> CA ENCODER :{'strategy': 'entity_embedding'}\n",
      ">>> FEATURE SELECTOR :{'strategy': 'rf_feature_importance', 'threshold': 0.2}\n",
      ">>> ESTIMATOR :{'strategy': 'Linear', 'C': 1.0, 'class_weight': None, 'dual': False, 'fit_intercept': True, 'intercept_scaling': 1, 'l1_ratio': None, 'max_iter': 100, 'multi_class': 'ovr', 'n_jobs': -1, 'penalty': 'l2', 'random_state': 0, 'solver': 'liblinear', 'tol': 0.0001, 'verbose': 0, 'warm_start': False}\n",
      " 40%|████      | 4/10 [00:08<00:11,  1.94s/it, best loss: 0.45016076541582595]"
     ]
    },
    {
     "name": "stderr",
     "output_type": "stream",
     "text": [
      "/usr/local/anaconda/lib/python3.6/site-packages/mlbox/model/classification/classifier.py:92: UserWarning: Invalid parameter for classifier Linear. Parameter IGNORED. Check the list of available parameters with `classifier.get_params().keys()`\n",
      "  + \". Parameter IGNORED. Check the list of \"\n",
      "\n"
     ]
    },
    {
     "name": "stdout",
     "output_type": "stream",
     "text": []
    },
    {
     "name": "stdout",
     "output_type": "stream",
     "text": [
      "MEAN SCORE : neg_log_loss = -0.5506958092288694\n",
      "VARIANCE : 0.047523267304907024 (fold 1 = -0.5031725419239623, fold 2 = -0.5982190765337764)\n",
      "CPU time: 0.2979397773742676 seconds\n",
      "##################################################### testing hyper-parameters... #####################################################\n",
      ">>> NA ENCODER :{'numerical_strategy': 0, 'categorical_strategy': '<NULL>'}\n",
      ">>> CA ENCODER :{'strategy': 'random_projection'}\n",
      ">>> FEATURE SELECTOR :{'strategy': 'variance', 'threshold': 0.3}\n",
      ">>> ESTIMATOR :{'strategy': 'RandomForest', 'max_depth': 20, 'bootstrap': True, 'class_weight': None, 'criterion': 'gini', 'max_features': 'sqrt', 'max_leaf_nodes': None, 'min_impurity_decrease': 0.0, 'min_impurity_split': None, 'min_samples_leaf': 1, 'min_samples_split': 2, 'min_weight_fraction_leaf': 0.0, 'n_estimators': 400, 'n_jobs': -1, 'oob_score': False, 'random_state': 0, 'verbose': 0, 'warm_start': False}\n",
      " 50%|█████     | 5/10 [00:09<00:07,  1.45s/it, best loss: 0.45016076541582595]"
     ]
    },
    {
     "name": "stderr",
     "output_type": "stream",
     "text": [
      "/usr/local/anaconda/lib/python3.6/site-packages/mlbox/model/classification/classifier.py:92: UserWarning: Invalid parameter for classifier RandomForest. Parameter IGNORED. Check the list of available parameters with `classifier.get_params().keys()`\n",
      "  + \". Parameter IGNORED. Check the list of \"\n",
      "\n"
     ]
    },
    {
     "name": "stdout",
     "output_type": "stream",
     "text": []
    },
    {
     "name": "stdout",
     "output_type": "stream",
     "text": [
      "MEAN SCORE : neg_log_loss = -0.49375991086701737\n",
      "VARIANCE : 0.08285445396939733 (fold 1 = -0.41090545689762004, fold 2 = -0.5766143648364147)\n",
      "CPU time: 1.0109946727752686 seconds\n",
      "##################################################### testing hyper-parameters... #####################################################\n",
      ">>> NA ENCODER :{'numerical_strategy': 0, 'categorical_strategy': '<NULL>'}\n",
      ">>> CA ENCODER :{'strategy': 'random_projection'}\n",
      ">>> FEATURE SELECTOR :{'strategy': 'rf_feature_importance', 'threshold': 0.1}\n",
      ">>> ESTIMATOR :{'strategy': 'Linear', 'C': 1.0, 'class_weight': None, 'dual': False, 'fit_intercept': True, 'intercept_scaling': 1, 'l1_ratio': None, 'max_iter': 100, 'multi_class': 'ovr', 'n_jobs': -1, 'penalty': 'l2', 'random_state': 0, 'solver': 'liblinear', 'tol': 0.0001, 'verbose': 0, 'warm_start': False}\n",
      "MEAN SCORE : neg_log_loss = -0.5415426855277767\n",
      "VARIANCE : 0.14420497505711996 (fold 1 = -0.39733771047065675, fold 2 = -0.6857476605848967)\n",
      "CPU time: 0.11064457893371582 seconds\n",
      "##################################################### testing hyper-parameters... #####################################################\n",
      ">>> NA ENCODER :{'numerical_strategy': 0, 'categorical_strategy': '<NULL>'}\n",
      ">>> CA ENCODER :{'strategy': 'random_projection'}\n",
      ">>> FEATURE SELECTOR :{'strategy': 'rf_feature_importance', 'threshold': 0.1}\n",
      ">>> ESTIMATOR :{'strategy': 'ExtraTrees', 'max_depth': 5, 'bootstrap': True, 'class_weight': None, 'criterion': 'gini', 'max_features': 'sqrt', 'max_leaf_nodes': None, 'min_impurity_decrease': 0.0, 'min_impurity_split': None, 'min_samples_leaf': 1, 'min_samples_split': 2, 'min_weight_fraction_leaf': 0.0, 'n_estimators': 400, 'n_jobs': -1, 'oob_score': False, 'random_state': 0, 'verbose': 0, 'warm_start': False}\n",
      " 70%|███████   | 7/10 [00:10<00:02,  1.04it/s, best loss: 0.45016076541582595]"
     ]
    },
    {
     "name": "stderr",
     "output_type": "stream",
     "text": [
      "/usr/local/anaconda/lib/python3.6/site-packages/mlbox/model/classification/classifier.py:92: UserWarning: Invalid parameter for classifier Linear. Parameter IGNORED. Check the list of available parameters with `classifier.get_params().keys()`\n",
      "  + \". Parameter IGNORED. Check the list of \"\n",
      "\n",
      "/usr/local/anaconda/lib/python3.6/site-packages/mlbox/model/classification/classifier.py:92: UserWarning: Invalid parameter for classifier ExtraTrees. Parameter IGNORED. Check the list of available parameters with `classifier.get_params().keys()`\n",
      "  + \". Parameter IGNORED. Check the list of \"\n",
      "\n"
     ]
    },
    {
     "name": "stdout",
     "output_type": "stream",
     "text": []
    },
    {
     "name": "stdout",
     "output_type": "stream",
     "text": [
      "MEAN SCORE : neg_log_loss = -0.45016076541582595\n",
      "VARIANCE : 0.0364766212935074 (fold 1 = -0.4136841441223185, fold 2 = -0.4866373867093333)\n",
      "CPU time: 0.9656825065612793 seconds\n",
      "##################################################### testing hyper-parameters... #####################################################\n",
      ">>> NA ENCODER :{'numerical_strategy': 0, 'categorical_strategy': '<NULL>'}\n",
      ">>> CA ENCODER :{'strategy': 'label_encoding'}\n",
      ">>> FEATURE SELECTOR :{'strategy': 'variance', 'threshold': 0.1}\n",
      ">>> ESTIMATOR :{'strategy': 'RandomForest', 'max_depth': 20, 'bootstrap': True, 'class_weight': None, 'criterion': 'gini', 'max_features': 'sqrt', 'max_leaf_nodes': None, 'min_impurity_decrease': 0.0, 'min_impurity_split': None, 'min_samples_leaf': 1, 'min_samples_split': 2, 'min_weight_fraction_leaf': 0.0, 'n_estimators': 400, 'n_jobs': -1, 'oob_score': False, 'random_state': 0, 'verbose': 0, 'warm_start': False}\n",
      " 80%|████████  | 8/10 [00:11<00:01,  1.04it/s, best loss: 0.45016076541582595]"
     ]
    },
    {
     "name": "stderr",
     "output_type": "stream",
     "text": [
      "/usr/local/anaconda/lib/python3.6/site-packages/mlbox/model/classification/classifier.py:92: UserWarning: Invalid parameter for classifier RandomForest. Parameter IGNORED. Check the list of available parameters with `classifier.get_params().keys()`\n",
      "  + \". Parameter IGNORED. Check the list of \"\n",
      "\n"
     ]
    },
    {
     "name": "stdout",
     "output_type": "stream",
     "text": []
    },
    {
     "name": "stdout",
     "output_type": "stream",
     "text": [
      "MEAN SCORE : neg_log_loss = -0.48315759810843484\n",
      "VARIANCE : 0.07098589911583106 (fold 1 = -0.4121716989926038, fold 2 = -0.5541434972242659)\n",
      "CPU time: 1.003422498703003 seconds\n",
      "##################################################### testing hyper-parameters... #####################################################\n",
      ">>> NA ENCODER :{'numerical_strategy': 0, 'categorical_strategy': '<NULL>'}\n",
      ">>> CA ENCODER :{'strategy': 'random_projection'}\n",
      ">>> FEATURE SELECTOR :{'strategy': 'variance', 'threshold': 0.3}\n",
      ">>> ESTIMATOR :{'strategy': 'RandomForest', 'max_depth': 20, 'bootstrap': True, 'class_weight': None, 'criterion': 'gini', 'max_features': 'sqrt', 'max_leaf_nodes': None, 'min_impurity_decrease': 0.0, 'min_impurity_split': None, 'min_samples_leaf': 1, 'min_samples_split': 2, 'min_weight_fraction_leaf': 0.0, 'n_estimators': 400, 'n_jobs': -1, 'oob_score': False, 'random_state': 0, 'verbose': 0, 'warm_start': False}\n",
      " 90%|█████████ | 9/10 [00:12<00:00,  1.02it/s, best loss: 0.45016076541582595]"
     ]
    },
    {
     "name": "stderr",
     "output_type": "stream",
     "text": [
      "/usr/local/anaconda/lib/python3.6/site-packages/mlbox/model/classification/classifier.py:92: UserWarning: Invalid parameter for classifier RandomForest. Parameter IGNORED. Check the list of available parameters with `classifier.get_params().keys()`\n",
      "  + \". Parameter IGNORED. Check the list of \"\n",
      "\n"
     ]
    },
    {
     "name": "stdout",
     "output_type": "stream",
     "text": []
    },
    {
     "name": "stdout",
     "output_type": "stream",
     "text": [
      "MEAN SCORE : neg_log_loss = -0.49375991086701737\n",
      "VARIANCE : 0.08285445396939733 (fold 1 = -0.41090545689762004, fold 2 = -0.5766143648364147)\n",
      "CPU time: 0.9843924045562744 seconds\n",
      "100%|██████████| 10/10 [00:13<00:00,  1.31s/it, best loss: 0.45016076541582595]\n",
      "\n",
      "\n",
      "~~~~~~~~~~~~~~~~~~~~~~~~~~~~~~~~~~~~~~~~~~~~~~~~~~~~~~~~~~~~~~~~~~~~~~~~~~~~~~~~~~~~~~~~~~~~~~~~~~~~~~~~~~~~~~~~~~~~~~~~~~~~~~~~~~~~~~~~~\n",
      "~~~~~~~~~~~~~~~~~~~~~~~~~~~~~~~~~~~~~~~~~~~~~~~~~~~~~~~~~ BEST HYPER-PARAMETERS ~~~~~~~~~~~~~~~~~~~~~~~~~~~~~~~~~~~~~~~~~~~~~~~~~~~~~~~~~\n",
      "~~~~~~~~~~~~~~~~~~~~~~~~~~~~~~~~~~~~~~~~~~~~~~~~~~~~~~~~~~~~~~~~~~~~~~~~~~~~~~~~~~~~~~~~~~~~~~~~~~~~~~~~~~~~~~~~~~~~~~~~~~~~~~~~~~~~~~~~~\n",
      "\n",
      "{'ce__strategy': 'random_projection', 'est__max_depth': 5, 'est__strategy': 'ExtraTrees', 'est__subsample': 0.6116126711910101, 'fs__strategy': 'rf_feature_importance', 'fs__threshold': 0.1, 'ne__numerical_strategy': 'mean'}\n",
      "CPU times: user 12.6 s, sys: 236 ms, total: 12.8 s\n",
      "Wall time: 13.2 s\n"
     ]
    }
   ],
   "source": [
    "%%time\n",
    "\n",
    "best_hd = Optimiser(to_path = '../results').optimise(space, mlb_data_hd, max_evals = 10)"
   ]
  },
  {
   "cell_type": "code",
   "execution_count": 17,
   "metadata": {},
   "outputs": [
    {
     "name": "stderr",
     "output_type": "stream",
     "text": [
      "/usr/local/anaconda/lib/python3.6/site-packages/mlbox/model/classification/classifier.py:92: UserWarning: Invalid parameter for classifier ExtraTrees. Parameter IGNORED. Check the list of available parameters with `classifier.get_params().keys()`\n",
      "  + \". Parameter IGNORED. Check the list of \"\n",
      "/usr/local/anaconda/lib/python3.6/site-packages/sklearn/utils/deprecation.py:66: DeprecationWarning: Class Imputer is deprecated; Imputer was deprecated in version 0.20 and will be removed in 0.22. Import impute.SimpleImputer from sklearn instead.\n",
      "  warnings.warn(msg, category=DeprecationWarning)\n"
     ]
    },
    {
     "name": "stdout",
     "output_type": "stream",
     "text": [
      "\n",
      "fitting the pipeline ...\n",
      "CPU time: 0.6410982608795166 seconds\n",
      "\n",
      "> Feature importances dumped into directory : /mnt/results\n",
      "\n",
      "predicting ...\n",
      "CPU time: 0.10602092742919922 seconds\n",
      "\n",
      "> Overview on predictions : \n",
      "\n",
      "        0.0       1.0  target_predicted\n",
      "0  0.331040  0.668960                 1\n",
      "1  0.072041  0.927959                 1\n",
      "2  0.231957  0.768043                 1\n",
      "3  0.139823  0.860177                 1\n",
      "4  0.398015  0.601985                 1\n",
      "5  0.250361  0.749639                 1\n",
      "6  0.326035  0.673965                 1\n",
      "7  0.095133  0.904867                 1\n",
      "8  0.291248  0.708752                 1\n",
      "9  0.390119  0.609881                 1\n",
      "\n",
      "dumping predictions into directory : /mnt/results ...\n"
     ]
    },
    {
     "data": {
      "text/plain": [
       "<mlbox.prediction.predictor.Predictor at 0x7f5d44c635f8>"
      ]
     },
     "execution_count": 17,
     "metadata": {},
     "output_type": "execute_result"
    }
   ],
   "source": [
    "Predictor(to_path='/mnt/results').fit_predict(best_hd,mlb_data_hd)"
   ]
  },
  {
   "cell_type": "markdown",
   "metadata": {},
   "source": [
    "## Breast Cancer"
   ]
  },
  {
   "cell_type": "markdown",
   "metadata": {},
   "source": [
    "#### Load the breast cancer dataset"
   ]
  },
  {
   "cell_type": "code",
   "execution_count": 18,
   "metadata": {},
   "outputs": [],
   "source": [
    "'''\n",
    "Attribute Information:\n",
    "\n",
    "1) ID number \n",
    "2) Diagnosis (M = malignant, B = benign) \n",
    "3-32) \n",
    "\n",
    "Ten real-valued features are computed for each cell nucleus: \n",
    "\n",
    "a) radius (mean of distances from center to points on the perimeter) \n",
    "b) texture (standard deviation of gray-scale values) \n",
    "c) perimeter \n",
    "d) area \n",
    "e) smoothness (local variation in radius lengths) \n",
    "f) compactness (perimeter^2 / area - 1.0) \n",
    "g) concavity (severity of concave portions of the contour) \n",
    "h) concave points (number of concave portions of the contour) \n",
    "i) symmetry \n",
    "j) fractal dimension (\"coastline approximation\" - 1)\n",
    "'''\n",
    "\n",
    "#column names\n",
    "names = ['id', 'diagnosis', 'radius_mean', 'texture_mean', 'perimeter_mean', \\\n",
    "         'area_mean', 'smoothness_mean', 'compactness_mean', 'concavity_mean', \\\n",
    "         'concave_points_mean', 'symmetry_mean', 'fractal_dimension_mean', \\\n",
    "         'radius_se', 'texture_se', 'perimeter_se', 'area_se', 'smoothness_se', \\\n",
    "         'compactness_se', 'concavity_se', 'concave_points_se', 'symmetry_se', \\\n",
    "         'fractal_dimension_se', 'radius_worst', 'texture_worst', 'perimeter_worst', \\\n",
    "         'area_worst', 'smoothness_worst', 'compactness_worst', 'concavity_worst', \\\n",
    "         'concave_points_worst', 'symmetry_worst', 'fractal_dimension_worst']\n",
    "\n",
    "#load data from Domino project directory\n",
    "bc_data = pd.read_csv(\"/mnt/data/raw/breast_cancer.csv\", index_col=False, header=0, names=names)\n",
    "\n",
    "#create MLBox random samples for train and test\n",
    "bc_data_train = bc_data.sample(frac=0.7, replace=False, random_state=1)\n",
    "bc_data_test = bc_data[~bc_data.isin(bc_data_train)].dropna()\n",
    "bc_data_test_wo_target = bc_data_test.drop('diagnosis', axis=1)\n",
    "\n",
    "bc_data_train.to_csv('/mnt/data/processed/bc_data_train.csv', index=False)\n",
    "bc_data_test.to_csv('/mnt/data/processed/bc_data_test.csv', index=False)\n",
    "bc_data_test_wo_target.to_csv('/mnt/data/processed/bc_data_test_wo_target.csv', index=False)"
   ]
  },
  {
   "cell_type": "code",
   "execution_count": 19,
   "metadata": {},
   "outputs": [],
   "source": [
    "# the list of paths to your train datasets and test datasets\n",
    "paths_bc = [\"/mnt/data/processed/bc_data_train.csv\", \\\n",
    "         \"/mnt/data/processed/bc_data_test_wo_target.csv\"]\n",
    "\n",
    "# the name of the target you try to predict (classification or regression)\n",
    "target_bc = \"diagnosis\""
   ]
  },
  {
   "cell_type": "markdown",
   "metadata": {},
   "source": [
    "#### Process the data"
   ]
  },
  {
   "cell_type": "code",
   "execution_count": 20,
   "metadata": {},
   "outputs": [
    {
     "name": "stdout",
     "output_type": "stream",
     "text": [
      "\n",
      "reading csv : bc_data_train.csv ...\n",
      "cleaning data ...\n",
      "CPU time: 0.039377689361572266 seconds\n",
      "\n",
      "reading csv : bc_data_test_wo_target.csv ...\n",
      "cleaning data ...\n",
      "CPU time: 0.031555891036987305 seconds\n",
      "\n",
      "> Number of common features : 31\n",
      "\n",
      "gathering and crunching for train and test datasets ...\n",
      "reindexing for train and test datasets ...\n",
      "dropping training duplicates ...\n",
      "dropping constant variables on training set ...\n",
      "\n",
      "> Number of categorical features: 0\n",
      "> Number of numerical features: 31\n",
      "> Number of training samples : 398\n",
      "> Number of test samples : 171\n",
      "\n",
      "> You have no missing values on train set...\n",
      "\n",
      "> Task : classification\n",
      "B    249\n",
      "M    149\n",
      "Name: diagnosis, dtype: int64\n",
      "\n",
      "encoding target ...\n"
     ]
    }
   ],
   "source": [
    "# to read and preprocess your files\n",
    "mlb_data_bc = Reader(sep=\",\", to_path = '/mnt/results').train_test_split(paths_bc, target_bc)"
   ]
  },
  {
   "cell_type": "code",
   "execution_count": 21,
   "metadata": {},
   "outputs": [
    {
     "name": "stdout",
     "output_type": "stream",
     "text": [
      "\n",
      "computing drifts ...\n",
      "CPU time: 0.42824673652648926 seconds\n",
      "\n",
      "> Top 10 drifts\n",
      "\n",
      "('smoothness_se', 0.12057311179701502)\n",
      "('concavity_se', 0.10426929448886013)\n",
      "('perimeter_se', 0.06487189710522512)\n",
      "('texture_mean', 0.06449965284699832)\n",
      "('texture_se', 0.06002275398882251)\n",
      "('symmetry_se', 0.05570224583931971)\n",
      "('perimeter_mean', 0.054076813616646735)\n",
      "('fractal_dimension_mean', 0.04680344265788583)\n",
      "('texture_worst', 0.044321126838020586)\n",
      "('radius_worst', 0.041591679326866915)\n",
      "\n",
      "> Deleted variables : []\n",
      "> Drift coefficients dumped into directory : /mnt/results\n"
     ]
    }
   ],
   "source": [
    "# drop IDs and useless columns\n",
    "mlb_data_bc = Drift_thresholder(to_path='/mnt/results').fit_transform(mlb_data_bc)"
   ]
  },
  {
   "cell_type": "markdown",
   "metadata": {},
   "source": [
    "#### Optimise the space and fit the model"
   ]
  },
  {
   "cell_type": "code",
   "execution_count": 22,
   "metadata": {},
   "outputs": [
    {
     "name": "stdout",
     "output_type": "stream",
     "text": []
    },
    {
     "name": "stdout",
     "output_type": "stream",
     "text": [
      "##################################################### testing hyper-parameters... #####################################################\n",
      ">>> NA ENCODER :{'numerical_strategy': 'mean', 'categorical_strategy': '<NULL>'}\n",
      ">>> CA ENCODER :{'strategy': 'label_encoding'}\n",
      ">>> FEATURE SELECTOR :{'strategy': 'variance', 'threshold': 0.2}\n",
      ">>> ESTIMATOR :{'strategy': 'RandomForest', 'max_depth': 10, 'bootstrap': True, 'class_weight': None, 'criterion': 'gini', 'max_features': 'sqrt', 'max_leaf_nodes': None, 'min_impurity_decrease': 0.0, 'min_impurity_split': None, 'min_samples_leaf': 1, 'min_samples_split': 2, 'min_weight_fraction_leaf': 0.0, 'n_estimators': 400, 'n_jobs': -1, 'oob_score': False, 'random_state': 0, 'verbose': 0, 'warm_start': False}\n",
      "  0%|          | 0/10 [00:00<?, ?it/s, best loss: ?]"
     ]
    },
    {
     "name": "stderr",
     "output_type": "stream",
     "text": [
      "/usr/local/anaconda/lib/python3.6/site-packages/mlbox/optimisation/optimiser.py:74: UserWarning: Optimiser will save all your fitted models into directory '/mnt/results/joblib'. Please clear it regularly.\n",
      "  +str(self.to_path)+\"/joblib'. Please clear it regularly.\")\n",
      "/usr/local/anaconda/lib/python3.6/site-packages/mlbox/model/classification/classifier.py:92: UserWarning: Invalid parameter for classifier RandomForest. Parameter IGNORED. Check the list of available parameters with `classifier.get_params().keys()`\n",
      "  + \". Parameter IGNORED. Check the list of \"\n",
      "\n",
      "/usr/local/anaconda/lib/python3.6/site-packages/sklearn/utils/deprecation.py:66: DeprecationWarning: Class Imputer is deprecated; Imputer was deprecated in version 0.20 and will be removed in 0.22. Import impute.SimpleImputer from sklearn instead.\n",
      "  warnings.warn(msg, category=DeprecationWarning)\n",
      "\n",
      "/usr/local/anaconda/lib/python3.6/site-packages/sklearn/utils/deprecation.py:66: DeprecationWarning: Class Imputer is deprecated; Imputer was deprecated in version 0.20 and will be removed in 0.22. Import impute.SimpleImputer from sklearn instead.\n",
      "  warnings.warn(msg, category=DeprecationWarning)\n",
      "\n"
     ]
    },
    {
     "name": "stdout",
     "output_type": "stream",
     "text": []
    },
    {
     "name": "stdout",
     "output_type": "stream",
     "text": [
      "MEAN SCORE : neg_log_loss = -0.15344310487726132\n",
      "VARIANCE : 0.014118581089442568 (fold 1 = -0.13932452378781876, fold 2 = -0.1675616859667039)\n",
      "CPU time: 1.1181492805480957 seconds\n",
      "##################################################### testing hyper-parameters... #####################################################\n",
      ">>> NA ENCODER :{'numerical_strategy': 0, 'categorical_strategy': '<NULL>'}\n",
      ">>> CA ENCODER :{'strategy': 'label_encoding'}\n",
      ">>> FEATURE SELECTOR :{'strategy': 'rf_feature_importance', 'threshold': 0.1}\n",
      ">>> ESTIMATOR :{'strategy': 'Linear', 'C': 1.0, 'class_weight': None, 'dual': False, 'fit_intercept': True, 'intercept_scaling': 1, 'l1_ratio': None, 'max_iter': 100, 'multi_class': 'ovr', 'n_jobs': -1, 'penalty': 'l2', 'random_state': 0, 'solver': 'liblinear', 'tol': 0.0001, 'verbose': 0, 'warm_start': False}\n",
      " 10%|█         | 1/10 [00:01<00:10,  1.13s/it, best loss: 0.15344310487726132]"
     ]
    },
    {
     "name": "stderr",
     "output_type": "stream",
     "text": [
      "/usr/local/anaconda/lib/python3.6/site-packages/mlbox/model/classification/classifier.py:92: UserWarning: Invalid parameter for classifier Linear. Parameter IGNORED. Check the list of available parameters with `classifier.get_params().keys()`\n",
      "  + \". Parameter IGNORED. Check the list of \"\n",
      "\n"
     ]
    },
    {
     "name": "stdout",
     "output_type": "stream",
     "text": []
    },
    {
     "name": "stdout",
     "output_type": "stream",
     "text": [
      "MEAN SCORE : neg_log_loss = -0.6698380210671552\n",
      "VARIANCE : 0.0006972148707201642 (fold 1 = -0.6705352359378753, fold 2 = -0.669140806196435)\n",
      "CPU time: 0.329059362411499 seconds\n",
      "##################################################### testing hyper-parameters... #####################################################\n",
      ">>> NA ENCODER :{'numerical_strategy': 0, 'categorical_strategy': '<NULL>'}\n",
      ">>> CA ENCODER :{'strategy': 'random_projection'}\n",
      ">>> FEATURE SELECTOR :{'strategy': 'variance', 'threshold': 0.2}\n",
      ">>> ESTIMATOR :{'strategy': 'Linear', 'C': 1.0, 'class_weight': None, 'dual': False, 'fit_intercept': True, 'intercept_scaling': 1, 'l1_ratio': None, 'max_iter': 100, 'multi_class': 'ovr', 'n_jobs': -1, 'penalty': 'l2', 'random_state': 0, 'solver': 'liblinear', 'tol': 0.0001, 'verbose': 0, 'warm_start': False}\n",
      "MEAN SCORE : neg_log_loss = -0.6698380210671342\n",
      "VARIANCE : 0.0006972148707410919 (fold 1 = -0.6705352359378753, fold 2 = -0.6691408061963932)\n",
      "CPU time: 0.06641840934753418 seconds\n",
      "##################################################### testing hyper-parameters... #####################################################\n",
      ">>> NA ENCODER :{'numerical_strategy': 0, 'categorical_strategy': '<NULL>'}\n",
      ">>> CA ENCODER :{'strategy': 'entity_embedding'}\n",
      ">>> FEATURE SELECTOR :{'strategy': 'variance', 'threshold': 0.1}\n",
      ">>> ESTIMATOR :{'strategy': 'Linear', 'C': 1.0, 'class_weight': None, 'dual': False, 'fit_intercept': True, 'intercept_scaling': 1, 'l1_ratio': None, 'max_iter': 100, 'multi_class': 'ovr', 'n_jobs': -1, 'penalty': 'l2', 'random_state': 0, 'solver': 'liblinear', 'tol': 0.0001, 'verbose': 0, 'warm_start': False}\n",
      " 30%|███       | 3/10 [00:01<00:06,  1.12it/s, best loss: 0.15344310487726132]"
     ]
    },
    {
     "name": "stderr",
     "output_type": "stream",
     "text": [
      "/usr/local/anaconda/lib/python3.6/site-packages/mlbox/model/classification/classifier.py:92: UserWarning: Invalid parameter for classifier Linear. Parameter IGNORED. Check the list of available parameters with `classifier.get_params().keys()`\n",
      "  + \". Parameter IGNORED. Check the list of \"\n",
      "\n",
      "/usr/local/anaconda/lib/python3.6/site-packages/mlbox/model/classification/classifier.py:92: UserWarning: Invalid parameter for classifier Linear. Parameter IGNORED. Check the list of available parameters with `classifier.get_params().keys()`\n",
      "  + \". Parameter IGNORED. Check the list of \"\n",
      "\n"
     ]
    },
    {
     "name": "stdout",
     "output_type": "stream",
     "text": []
    },
    {
     "name": "stdout",
     "output_type": "stream",
     "text": [
      "MEAN SCORE : neg_log_loss = -0.6698380210671342\n",
      "VARIANCE : 0.0006972148707411474 (fold 1 = -0.6705352359378753, fold 2 = -0.669140806196393)\n",
      "CPU time: 0.1796419620513916 seconds\n",
      "##################################################### testing hyper-parameters... #####################################################\n",
      ">>> NA ENCODER :{'numerical_strategy': 0, 'categorical_strategy': '<NULL>'}\n",
      ">>> CA ENCODER :{'strategy': 'entity_embedding'}\n",
      ">>> FEATURE SELECTOR :{'strategy': 'variance', 'threshold': 0.3}\n",
      ">>> ESTIMATOR :{'strategy': 'Linear', 'C': 1.0, 'class_weight': None, 'dual': False, 'fit_intercept': True, 'intercept_scaling': 1, 'l1_ratio': None, 'max_iter': 100, 'multi_class': 'ovr', 'n_jobs': -1, 'penalty': 'l2', 'random_state': 0, 'solver': 'liblinear', 'tol': 0.0001, 'verbose': 0, 'warm_start': False}\n",
      "MEAN SCORE : neg_log_loss = -0.6698380210671342\n",
      "VARIANCE : 0.0006972148707412029 (fold 1 = -0.6705352359378753, fold 2 = -0.6691408061963929)\n",
      "CPU time: 0.12563180923461914 seconds\n",
      "##################################################### testing hyper-parameters... #####################################################\n",
      ">>> NA ENCODER :{'numerical_strategy': 0, 'categorical_strategy': '<NULL>'}\n",
      ">>> CA ENCODER :{'strategy': 'label_encoding'}\n",
      ">>> FEATURE SELECTOR :{'strategy': 'rf_feature_importance', 'threshold': 0.3}\n",
      ">>> ESTIMATOR :{'strategy': 'RandomForest', 'max_depth': 10, 'bootstrap': True, 'class_weight': None, 'criterion': 'gini', 'max_features': 'sqrt', 'max_leaf_nodes': None, 'min_impurity_decrease': 0.0, 'min_impurity_split': None, 'min_samples_leaf': 1, 'min_samples_split': 2, 'min_weight_fraction_leaf': 0.0, 'n_estimators': 400, 'n_jobs': -1, 'oob_score': False, 'random_state': 0, 'verbose': 0, 'warm_start': False}\n",
      " 50%|█████     | 5/10 [00:01<00:02,  1.98it/s, best loss: 0.15344310487726132]"
     ]
    },
    {
     "name": "stderr",
     "output_type": "stream",
     "text": [
      "/usr/local/anaconda/lib/python3.6/site-packages/mlbox/model/classification/classifier.py:92: UserWarning: Invalid parameter for classifier Linear. Parameter IGNORED. Check the list of available parameters with `classifier.get_params().keys()`\n",
      "  + \". Parameter IGNORED. Check the list of \"\n",
      "\n",
      "/usr/local/anaconda/lib/python3.6/site-packages/mlbox/model/classification/classifier.py:92: UserWarning: Invalid parameter for classifier RandomForest. Parameter IGNORED. Check the list of available parameters with `classifier.get_params().keys()`\n",
      "  + \". Parameter IGNORED. Check the list of \"\n",
      "\n"
     ]
    },
    {
     "name": "stdout",
     "output_type": "stream",
     "text": []
    },
    {
     "name": "stdout",
     "output_type": "stream",
     "text": [
      "MEAN SCORE : neg_log_loss = -0.14987048638522532\n",
      "VARIANCE : 0.006325396645336351 (fold 1 = -0.14354508973988897, fold 2 = -0.15619588303056167)\n",
      "CPU time: 1.252192497253418 seconds\n",
      "##################################################### testing hyper-parameters... #####################################################\n",
      ">>> NA ENCODER :{'numerical_strategy': 'mean', 'categorical_strategy': '<NULL>'}\n",
      ">>> CA ENCODER :{'strategy': 'label_encoding'}\n",
      ">>> FEATURE SELECTOR :{'strategy': 'rf_feature_importance', 'threshold': 0.1}\n",
      ">>> ESTIMATOR :{'strategy': 'RandomForest', 'max_depth': 5, 'bootstrap': True, 'class_weight': None, 'criterion': 'gini', 'max_features': 'sqrt', 'max_leaf_nodes': None, 'min_impurity_decrease': 0.0, 'min_impurity_split': None, 'min_samples_leaf': 1, 'min_samples_split': 2, 'min_weight_fraction_leaf': 0.0, 'n_estimators': 400, 'n_jobs': -1, 'oob_score': False, 'random_state': 0, 'verbose': 0, 'warm_start': False}\n",
      " 60%|██████    | 6/10 [00:03<00:02,  1.36it/s, best loss: 0.14987048638522532]"
     ]
    },
    {
     "name": "stderr",
     "output_type": "stream",
     "text": [
      "/usr/local/anaconda/lib/python3.6/site-packages/mlbox/model/classification/classifier.py:92: UserWarning: Invalid parameter for classifier RandomForest. Parameter IGNORED. Check the list of available parameters with `classifier.get_params().keys()`\n",
      "  + \". Parameter IGNORED. Check the list of \"\n",
      "\n",
      "/usr/local/anaconda/lib/python3.6/site-packages/sklearn/utils/deprecation.py:66: DeprecationWarning: Class Imputer is deprecated; Imputer was deprecated in version 0.20 and will be removed in 0.22. Import impute.SimpleImputer from sklearn instead.\n",
      "  warnings.warn(msg, category=DeprecationWarning)\n",
      "\n",
      "/usr/local/anaconda/lib/python3.6/site-packages/sklearn/utils/deprecation.py:66: DeprecationWarning: Class Imputer is deprecated; Imputer was deprecated in version 0.20 and will be removed in 0.22. Import impute.SimpleImputer from sklearn instead.\n",
      "  warnings.warn(msg, category=DeprecationWarning)\n",
      "\n"
     ]
    },
    {
     "name": "stdout",
     "output_type": "stream",
     "text": []
    },
    {
     "name": "stdout",
     "output_type": "stream",
     "text": [
      "MEAN SCORE : neg_log_loss = -0.15231232453080193\n",
      "VARIANCE : 0.008258411079460348 (fold 1 = -0.14405391345134158, fold 2 = -0.16057073561026228)\n",
      "CPU time: 1.1310806274414062 seconds\n",
      "##################################################### testing hyper-parameters... #####################################################\n",
      ">>> NA ENCODER :{'numerical_strategy': 0, 'categorical_strategy': '<NULL>'}\n",
      ">>> CA ENCODER :{'strategy': 'label_encoding'}\n",
      ">>> FEATURE SELECTOR :{'strategy': 'variance', 'threshold': 0.3}\n",
      ">>> ESTIMATOR :{'strategy': 'LightGBM', 'max_depth': 10, 'subsample': 0.680876860337814, 'boosting_type': 'gbdt', 'class_weight': None, 'colsample_bytree': 0.8, 'importance_type': 'split', 'learning_rate': 0.05, 'min_child_samples': 20, 'min_child_weight': 0.001, 'min_split_gain': 0.0, 'n_estimators': 500, 'n_jobs': -1, 'num_leaves': 31, 'objective': None, 'random_state': None, 'reg_alpha': 0.0, 'reg_lambda': 0.0, 'silent': True, 'subsample_for_bin': 200000, 'subsample_freq': 0, 'nthread': -1, 'seed': 0}\n",
      "MEAN SCORE : neg_log_loss = -0.30567901103294326\n",
      "VARIANCE : 0.06205996202429512 (fold 1 = -0.24361904900864817, fold 2 = -0.3677389730572384)\n",
      "CPU time: 1.7225499153137207 seconds\n",
      "##################################################### testing hyper-parameters... #####################################################\n",
      ">>> NA ENCODER :{'numerical_strategy': 0, 'categorical_strategy': '<NULL>'}\n",
      ">>> CA ENCODER :{'strategy': 'random_projection'}\n",
      ">>> FEATURE SELECTOR :{'strategy': 'rf_feature_importance', 'threshold': 0.3}\n",
      ">>> ESTIMATOR :{'strategy': 'RandomForest', 'max_depth': 20, 'bootstrap': True, 'class_weight': None, 'criterion': 'gini', 'max_features': 'sqrt', 'max_leaf_nodes': None, 'min_impurity_decrease': 0.0, 'min_impurity_split': None, 'min_samples_leaf': 1, 'min_samples_split': 2, 'min_weight_fraction_leaf': 0.0, 'n_estimators': 400, 'n_jobs': -1, 'oob_score': False, 'random_state': 0, 'verbose': 0, 'warm_start': False}\n",
      " 80%|████████  | 8/10 [00:06<00:02,  1.12s/it, best loss: 0.14987048638522532]"
     ]
    },
    {
     "name": "stderr",
     "output_type": "stream",
     "text": [
      "/usr/local/anaconda/lib/python3.6/site-packages/mlbox/model/classification/classifier.py:92: UserWarning: Invalid parameter for classifier RandomForest. Parameter IGNORED. Check the list of available parameters with `classifier.get_params().keys()`\n",
      "  + \". Parameter IGNORED. Check the list of \"\n",
      "\n"
     ]
    },
    {
     "name": "stdout",
     "output_type": "stream",
     "text": []
    },
    {
     "name": "stdout",
     "output_type": "stream",
     "text": [
      "MEAN SCORE : neg_log_loss = -0.14987048638522532\n",
      "VARIANCE : 0.006325396645336351 (fold 1 = -0.14354508973988897, fold 2 = -0.15619588303056167)\n",
      "CPU time: 1.1349759101867676 seconds\n",
      "##################################################### testing hyper-parameters... #####################################################\n",
      ">>> NA ENCODER :{'numerical_strategy': 'mean', 'categorical_strategy': '<NULL>'}\n",
      ">>> CA ENCODER :{'strategy': 'entity_embedding'}\n",
      ">>> FEATURE SELECTOR :{'strategy': 'variance', 'threshold': 0.3}\n",
      ">>> ESTIMATOR :{'strategy': 'ExtraTrees', 'max_depth': 5, 'bootstrap': True, 'class_weight': None, 'criterion': 'gini', 'max_features': 'sqrt', 'max_leaf_nodes': None, 'min_impurity_decrease': 0.0, 'min_impurity_split': None, 'min_samples_leaf': 1, 'min_samples_split': 2, 'min_weight_fraction_leaf': 0.0, 'n_estimators': 400, 'n_jobs': -1, 'oob_score': False, 'random_state': 0, 'verbose': 0, 'warm_start': False}\n",
      " 90%|█████████ | 9/10 [00:07<00:01,  1.13s/it, best loss: 0.14987048638522532]"
     ]
    },
    {
     "name": "stderr",
     "output_type": "stream",
     "text": [
      "/usr/local/anaconda/lib/python3.6/site-packages/mlbox/model/classification/classifier.py:92: UserWarning: Invalid parameter for classifier ExtraTrees. Parameter IGNORED. Check the list of available parameters with `classifier.get_params().keys()`\n",
      "  + \". Parameter IGNORED. Check the list of \"\n",
      "\n"
     ]
    },
    {
     "name": "stdout",
     "output_type": "stream",
     "text": []
    },
    {
     "name": "stdout",
     "output_type": "stream",
     "text": [
      "MEAN SCORE : neg_log_loss = -0.16601760645184827\n",
      "VARIANCE : 0.000573284414337516 (fold 1 = -0.16544432203751075, fold 2 = -0.16659089086618578)\n",
      "CPU time: 0.9411675930023193 seconds\n",
      "100%|██████████| 10/10 [00:08<00:00,  1.23it/s, best loss: 0.14987048638522532]\n",
      "\n",
      "\n",
      "~~~~~~~~~~~~~~~~~~~~~~~~~~~~~~~~~~~~~~~~~~~~~~~~~~~~~~~~~~~~~~~~~~~~~~~~~~~~~~~~~~~~~~~~~~~~~~~~~~~~~~~~~~~~~~~~~~~~~~~~~~~~~~~~~~~~~~~~~\n",
      "~~~~~~~~~~~~~~~~~~~~~~~~~~~~~~~~~~~~~~~~~~~~~~~~~~~~~~~~~ BEST HYPER-PARAMETERS ~~~~~~~~~~~~~~~~~~~~~~~~~~~~~~~~~~~~~~~~~~~~~~~~~~~~~~~~~\n",
      "~~~~~~~~~~~~~~~~~~~~~~~~~~~~~~~~~~~~~~~~~~~~~~~~~~~~~~~~~~~~~~~~~~~~~~~~~~~~~~~~~~~~~~~~~~~~~~~~~~~~~~~~~~~~~~~~~~~~~~~~~~~~~~~~~~~~~~~~~\n",
      "\n",
      "{'ce__strategy': 'label_encoding', 'est__max_depth': 10, 'est__strategy': 'RandomForest', 'est__subsample': 0.657658568660771, 'fs__strategy': 'rf_feature_importance', 'fs__threshold': 0.3, 'ne__numerical_strategy': 0}\n",
      "CPU times: user 7.62 s, sys: 180 ms, total: 7.8 s\n",
      "Wall time: 8.2 s\n"
     ]
    }
   ],
   "source": [
    "%%time\n",
    "\n",
    "best_bc = Optimiser(to_path = '/mnt/results').optimise(space, mlb_data_bc, max_evals = 10)"
   ]
  },
  {
   "cell_type": "code",
   "execution_count": 23,
   "metadata": {},
   "outputs": [
    {
     "name": "stderr",
     "output_type": "stream",
     "text": [
      "/usr/local/anaconda/lib/python3.6/site-packages/mlbox/model/classification/classifier.py:92: UserWarning: Invalid parameter for classifier RandomForest. Parameter IGNORED. Check the list of available parameters with `classifier.get_params().keys()`\n",
      "  + \". Parameter IGNORED. Check the list of \"\n"
     ]
    },
    {
     "name": "stdout",
     "output_type": "stream",
     "text": [
      "\n",
      "fitting the pipeline ...\n",
      "CPU time: 0.7908856868743896 seconds\n",
      "\n",
      "> Feature importances dumped into directory : /mnt/results\n",
      "\n",
      "predicting ...\n",
      "CPU time: 0.02890777587890625 seconds\n",
      "\n",
      "> Overview on predictions : \n",
      "\n",
      "        B       M diagnosis_predicted\n",
      "0  0.0000  1.0000                   M\n",
      "1  0.0875  0.9125                   M\n",
      "2  0.1875  0.8125                   M\n",
      "3  0.0175  0.9825                   M\n",
      "4  0.9900  0.0100                   B\n",
      "5  0.0750  0.9250                   M\n",
      "6  0.0075  0.9925                   M\n",
      "7  0.0175  0.9825                   M\n",
      "8  0.0000  1.0000                   M\n",
      "9  0.3025  0.6975                   M\n",
      "\n",
      "dumping predictions into directory : /mnt/results ...\n"
     ]
    },
    {
     "data": {
      "text/plain": [
       "<mlbox.prediction.predictor.Predictor at 0x7f5ccd4fb0f0>"
      ]
     },
     "execution_count": 23,
     "metadata": {},
     "output_type": "execute_result"
    }
   ],
   "source": [
    "Predictor(to_path='/mnt/results').fit_predict(best_bc,mlb_data_bc)"
   ]
  },
  {
   "cell_type": "markdown",
   "metadata": {},
   "source": [
    "## Print Accuracy and Save to Domino Stats File\n",
    "\n",
    "Saving stats to this file [allows Domino to track and trend them in the Experiment Manager](https://support.dominodatalab.com/hc/en-us/articles/204348169-Diagnostic-statistics-with-dominostats-json) when this notebook is run as a batch or scheduled job."
   ]
  },
  {
   "cell_type": "code",
   "execution_count": 24,
   "metadata": {},
   "outputs": [],
   "source": [
    "# this predictions file is the output of the Prediction funtion from above\n",
    "bc_pred = pd.read_csv('/mnt/results/diagnosis_predictions.csv')\n",
    "y_bc_pred = bc_pred['diagnosis_predicted']\n",
    "\n",
    "# these are the answers from the file stored in the project\n",
    "bc_test = pd.read_csv('/mnt/data/processed/bc_data_test.csv')\n",
    "y_bc_test = bc_test['diagnosis']\n",
    "\n",
    "# this predictions file is the output of the Prediction funtion from above\n",
    "hd_pred = pd.read_csv('/mnt/results/target_predictions.csv')\n",
    "y_hd_pred = hd_pred['target_predicted']\n",
    "\n",
    "# these are the answers from the file stored in the project\n",
    "hd_test = pd.read_csv('/mnt/data/processed/hd_data_test.csv')\n",
    "y_hd_test = hd_test['target']"
   ]
  },
  {
   "cell_type": "code",
   "execution_count": 25,
   "metadata": {},
   "outputs": [
    {
     "name": "stdout",
     "output_type": "stream",
     "text": [
      "bc  0.9766081871345029\n",
      "hd  0.8901098901098901\n"
     ]
    }
   ],
   "source": [
    "import sklearn\n",
    "\n",
    "hd_acc = sklearn.metrics.accuracy_score(y_hd_test,y_hd_pred)\n",
    "bc_acc = sklearn.metrics.accuracy_score(y_bc_test,y_bc_pred)\n",
    "\n",
    "print('bc ', bc_acc)\n",
    "print('hd ', hd_acc)"
   ]
  },
  {
   "cell_type": "markdown",
   "metadata": {},
   "source": [
    "#### Save to Domino"
   ]
  },
  {
   "cell_type": "code",
   "execution_count": 58,
   "metadata": {},
   "outputs": [],
   "source": [
    "import json\n",
    "with open('/mnt/dominostats.json', 'w') as f:\n",
    "    f.write(json.dumps( {\"HD_ACC\": hd_acc, \"BC_ACC\": bc_acc}))"
   ]
  }
 ],
 "metadata": {
  "kernelspec": {
   "display_name": "Python 3",
   "language": "python",
   "name": "python3"
  },
  "language_info": {
   "codemirror_mode": {
    "name": "ipython",
    "version": 3
   },
   "file_extension": ".py",
   "mimetype": "text/x-python",
   "name": "python",
   "nbconvert_exporter": "python",
   "pygments_lexer": "ipython3",
   "version": "3.6.7"
  }
 },
 "nbformat": 4,
 "nbformat_minor": 2
}
